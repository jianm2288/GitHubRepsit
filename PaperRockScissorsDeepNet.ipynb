{
  "nbformat": 4,
  "nbformat_minor": 0,
  "metadata": {
    "accelerator": "GPU",
    "colab": {
      "name": "PaperRockScissorsDeepNet",
      "provenance": [],
      "collapsed_sections": [],
      "toc_visible": true,
      "history_visible": true,
      "include_colab_link": true
    },
    "kernelspec": {
      "display_name": "Julia 1.3",
      "language": "julia",
      "name": "julia-1.3"
    },
    "language_info": {
      "file_extension": ".jl",
      "mimetype": "application/julia",
      "name": "julia",
      "version": "1.3"
    }
  },
  "cells": [
    {
      "cell_type": "markdown",
      "metadata": {
        "id": "view-in-github",
        "colab_type": "text"
      },
      "source": [
        "<a href=\"https://colab.research.google.com/github/jianm2288/GitHubRepsit/blob/main/PaperRockScissorsDeepNet.ipynb\" target=\"_parent\"><img src=\"https://colab.research.google.com/assets/colab-badge.svg\" alt=\"Open In Colab\"/></a>"
      ]
    },
    {
      "cell_type": "markdown",
      "metadata": {
        "id": "AZU6ZEpSGnTv"
      },
      "source": [
        "# Installing Julia 1.3"
      ]
    },
    {
      "cell_type": "code",
      "metadata": {
        "colab": {
          "base_uri": "https://localhost:8080/"
        },
        "id": "1r-vIIF68J26",
        "outputId": "8d5bb789-943b-4e26-9687-214598519f22"
      },
      "source": [
        "# Installation cell\n",
        "%%shell\n",
        "if ! command -v julia 3>&1 > /dev/null\n",
        "then\n",
        "    wget 'https://julialang-s3.julialang.org/bin/linux/x64/1.3/julia-1.3.1-linux-x86_64.tar.gz' \\\n",
        "        -O /tmp/julia.tar.gz\n",
        "    tar -x -f /tmp/julia.tar.gz -C /usr/local --strip-components 1\n",
        "    rm /tmp/julia.tar.gz\n",
        "fi\n",
        "julia -e 'using Pkg; pkg\"add IJulia; precompile;\"'\n",
        "echo 'Done'"
      ],
      "execution_count": 1,
      "outputs": [
        {
          "output_type": "stream",
          "text": [
            "--2021-04-11 00:25:06--  https://julialang-s3.julialang.org/bin/linux/x64/1.3/julia-1.3.1-linux-x86_64.tar.gz\n",
            "Resolving julialang-s3.julialang.org (julialang-s3.julialang.org)... 151.101.2.49, 151.101.66.49, 151.101.130.49, ...\n",
            "Connecting to julialang-s3.julialang.org (julialang-s3.julialang.org)|151.101.2.49|:443... connected.\n",
            "HTTP request sent, awaiting response... 302 gce internal redirect trigger\n",
            "Location: https://storage.googleapis.com/julialang2/bin/linux/x64/1.3/julia-1.3.1-linux-x86_64.tar.gz [following]\n",
            "--2021-04-11 00:25:06--  https://storage.googleapis.com/julialang2/bin/linux/x64/1.3/julia-1.3.1-linux-x86_64.tar.gz\n",
            "Resolving storage.googleapis.com (storage.googleapis.com)... 142.250.31.128, 172.217.13.80, 172.217.13.240, ...\n",
            "Connecting to storage.googleapis.com (storage.googleapis.com)|142.250.31.128|:443... connected.\n",
            "HTTP request sent, awaiting response... 200 OK\n",
            "Length: 95929584 (91M) [application/x-gzip]\n",
            "Saving to: ‘/tmp/julia.tar.gz’\n",
            "\n",
            "/tmp/julia.tar.gz   100%[===================>]  91.49M   154MB/s    in 0.6s    \n",
            "\n",
            "2021-04-11 00:25:06 (154 MB/s) - ‘/tmp/julia.tar.gz’ saved [95929584/95929584]\n",
            "\n",
            "   Cloning default registries into `~/.julia`\n",
            "   Cloning registry from \"https://github.com/JuliaRegistries/General.git\"\n",
            "\u001b[2K\u001b[?25h     Added registry `General` to `~/.julia/registries/General`\n",
            " Resolving package versions...\n",
            " Installed MbedTLS_jll ───── v2.16.8+1\n",
            " Installed libsodium_jll ─── v1.0.19+0\n",
            " Installed Conda ─────────── v1.5.1\n",
            " Installed VersionParsing ── v1.2.0\n",
            " Installed SoftGlobalScope ─ v1.1.0\n",
            " Installed MbedTLS ───────── v1.0.3\n",
            " Installed IJulia ────────── v1.23.2\n",
            " Installed JLLWrappers ───── v1.2.0\n",
            " Installed Parsers ───────── v1.1.0\n",
            " Installed JSON ──────────── v0.21.1\n",
            " Installed Artifacts ─────── v1.3.0\n",
            " Installed ZMQ ───────────── v1.2.1\n",
            " Installed ZeroMQ_jll ────── v4.3.2+6\n",
            "  Updating `~/.julia/environments/v1.3/Project.toml`\n",
            "  [7073ff75] + IJulia v1.23.2\n",
            "  Updating `~/.julia/environments/v1.3/Manifest.toml`\n",
            "  [56f22d72] + Artifacts v1.3.0\n",
            "  [8f4d0f93] + Conda v1.5.1\n",
            "  [7073ff75] + IJulia v1.23.2\n",
            "  [692b3bcd] + JLLWrappers v1.2.0\n",
            "  [682c06a0] + JSON v0.21.1\n",
            "  [739be429] + MbedTLS v1.0.3\n",
            "  [c8ffd9c3] + MbedTLS_jll v2.16.8+1\n",
            "  [69de0a69] + Parsers v1.1.0\n",
            "  [b85f4697] + SoftGlobalScope v1.1.0\n",
            "  [81def892] + VersionParsing v1.2.0\n",
            "  [c2297ded] + ZMQ v1.2.1\n",
            "  [8f1865be] + ZeroMQ_jll v4.3.2+6\n",
            "  [a9144af2] + libsodium_jll v1.0.19+0\n",
            "  [2a0f44e3] + Base64 \n",
            "  [ade2ca70] + Dates \n",
            "  [8ba89e20] + Distributed \n",
            "  [7b1f6079] + FileWatching \n",
            "  [b77e0a4c] + InteractiveUtils \n",
            "  [76f85450] + LibGit2 \n",
            "  [8f399da3] + Libdl \n",
            "  [56ddb016] + Logging \n",
            "  [d6f4376e] + Markdown \n",
            "  [a63ad114] + Mmap \n",
            "  [44cfe95a] + Pkg \n",
            "  [de0858da] + Printf \n",
            "  [3fa0cd96] + REPL \n",
            "  [9a3f8284] + Random \n",
            "  [ea8e919c] + SHA \n",
            "  [9e88b42a] + Serialization \n",
            "  [6462fe0b] + Sockets \n",
            "  [8dfed614] + Test \n",
            "  [cf7118a7] + UUIDs \n",
            "  [4ec0a83e] + Unicode \n",
            "  Building Conda ─→ `~/.julia/packages/Conda/tJJuN/deps/build.log`\n",
            "  Building IJulia → `~/.julia/packages/IJulia/e8kqU/deps/build.log`\n",
            "Precompiling project...\n",
            "Precompiling IJulia\n",
            "Done\n"
          ],
          "name": "stdout"
        },
        {
          "output_type": "execute_result",
          "data": {
            "text/plain": [
              ""
            ]
          },
          "metadata": {
            "tags": []
          },
          "execution_count": 1
        }
      ]
    },
    {
      "cell_type": "markdown",
      "metadata": {
        "id": "b6UXtrtvGyMO"
      },
      "source": [
        "# Selecting GPU as hardware accelerator"
      ]
    },
    {
      "cell_type": "markdown",
      "metadata": {
        "id": "XdMpcQduyaQc"
      },
      "source": [
        "After you run the first cell (the the cell directly above this text), go to Colab's Edit menu and select Notebook settings from the drop down. Select **Julia 1.3** as the runtime and *GPU* as the hadware accelerator.\n",
        "\n",
        "<br/>You should see somthing like this:\n",
        "\n",
        "![image.png](data:image/png;base64,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)\n",
        "> \n",
        "<br/>Click on SAVE\n",
        "<br/>**We are ready to get going**\n",
        "\n",
        "\n",
        "\n"
      ]
    },
    {
      "cell_type": "code",
      "metadata": {
        "id": "iIxu4TjlJnBG",
        "colab": {
          "base_uri": "https://localhost:8080/"
        },
        "outputId": "24497ce0-6dfb-464c-df23-f029f4048b4f"
      },
      "source": [
        "#Julia 1.3 Environment\n",
        "using Pkg\n",
        "pkg\"add BenchmarkTools; precompile;\"\n",
        "pkg\"add CuArrays; precompile;\"\n",
        "@time pkg\"add Flux; precompile;\""
      ],
      "execution_count": 1,
      "outputs": [
        {
          "output_type": "stream",
          "text": [
            "\u001b[32m\u001b[1m  Updating\u001b[22m\u001b[39m registry at `~/.julia/registries/General`\n",
            "\u001b[32m\u001b[1m  Updating\u001b[22m\u001b[39m git-repo `https://github.com/JuliaRegistries/General.git`\n",
            "\u001b[?25l\u001b[2K\u001b[?25h\u001b[32m\u001b[1m Resolving\u001b[22m\u001b[39m package versions...\n",
            "\u001b[32m\u001b[1m Installed\u001b[22m\u001b[39m BenchmarkTools ─ v0.7.0\n",
            "\u001b[32m\u001b[1m  Updating\u001b[22m\u001b[39m `~/.julia/environments/v1.3/Project.toml`\n",
            " \u001b[90m [6e4b80f9]\u001b[39m\u001b[92m + BenchmarkTools v0.7.0\u001b[39m\n",
            "\u001b[32m\u001b[1m  Updating\u001b[22m\u001b[39m `~/.julia/environments/v1.3/Manifest.toml`\n",
            " \u001b[90m [6e4b80f9]\u001b[39m\u001b[92m + BenchmarkTools v0.7.0\u001b[39m\n",
            " \u001b[90m [37e2e46d]\u001b[39m\u001b[92m + LinearAlgebra \u001b[39m\n",
            " \u001b[90m [2f01184e]\u001b[39m\u001b[92m + SparseArrays \u001b[39m\n",
            " \u001b[90m [10745b16]\u001b[39m\u001b[92m + Statistics \u001b[39m\n",
            "\u001b[32m\u001b[1mPrecompiling\u001b[22m\u001b[39m project...\n",
            "\u001b[32m\u001b[1mPrecompiling\u001b[22m\u001b[39m BenchmarkTools\n"
          ],
          "name": "stdout"
        },
        {
          "output_type": "stream",
          "text": [
            "┌ Info: Precompiling BenchmarkTools [6e4b80f9-dd63-53aa-95a3-0cdb28fa8baf]\n",
            "└ @ Base loading.jl:1273\n"
          ],
          "name": "stderr"
        },
        {
          "output_type": "stream",
          "text": [
            "\u001b[32m\u001b[1m Resolving\u001b[22m\u001b[39m package versions...\n",
            "\u001b[32m\u001b[1m Installed\u001b[22m\u001b[39m MacroTools ───────── v0.5.6\n",
            "\u001b[32m\u001b[1m Installed\u001b[22m\u001b[39m TimerOutputs ─────── v0.5.8\n",
            "\u001b[32m\u001b[1m Installed\u001b[22m\u001b[39m Requires ─────────── v1.1.3\n",
            "\u001b[32m\u001b[1m Installed\u001b[22m\u001b[39m GPUArrays ────────── v3.4.1\n",
            "\u001b[32m\u001b[1m Installed\u001b[22m\u001b[39m NNlib ────────────── v0.7.17\n",
            "\u001b[32m\u001b[1m Installed\u001b[22m\u001b[39m CuArrays ─────────── v2.2.2\n",
            "\u001b[32m\u001b[1m Installed\u001b[22m\u001b[39m Cthulhu ──────────── v1.6.1\n",
            "\u001b[32m\u001b[1m Installed\u001b[22m\u001b[39m DataStructures ───── v0.17.20\n",
            "\u001b[32m\u001b[1m Installed\u001b[22m\u001b[39m ChainRulesCore ───── v0.9.37\n",
            "\u001b[32m\u001b[1m Installed\u001b[22m\u001b[39m CUDAapi ──────────── v4.0.0\n",
            "\u001b[32m\u001b[1m Installed\u001b[22m\u001b[39m ExprTools ────────── v0.1.3\n",
            "\u001b[32m\u001b[1m Installed\u001b[22m\u001b[39m CEnum ────────────── v0.3.0\n",
            "\u001b[32m\u001b[1m Installed\u001b[22m\u001b[39m AbstractFFTs ─────── v0.5.0\n",
            "\u001b[32m\u001b[1m Installed\u001b[22m\u001b[39m Compat ───────────── v3.27.0\n",
            "\u001b[32m\u001b[1m Installed\u001b[22m\u001b[39m CodeTracking ─────── v1.0.5\n",
            "\u001b[32m\u001b[1m Installed\u001b[22m\u001b[39m GPUCompiler ──────── v0.2.0\n",
            "\u001b[32m\u001b[1m Installed\u001b[22m\u001b[39m AbstractTrees ────── v0.3.4\n",
            "\u001b[32m\u001b[1m Installed\u001b[22m\u001b[39m Reexport ─────────── v0.2.0\n",
            "\u001b[32m\u001b[1m Installed\u001b[22m\u001b[39m LLVM ─────────────── v1.7.0\n",
            "\u001b[32m\u001b[1m Installed\u001b[22m\u001b[39m Adapt ────────────── v1.1.0\n",
            "\u001b[32m\u001b[1m Installed\u001b[22m\u001b[39m OrderedCollections ─ v1.4.0\n",
            "\u001b[32m\u001b[1m Installed\u001b[22m\u001b[39m BinaryProvider ───── v0.5.10\n",
            "\u001b[32m\u001b[1m Installed\u001b[22m\u001b[39m CUDAdrv ──────────── v6.3.0\n",
            "\u001b[32m\u001b[1m Installed\u001b[22m\u001b[39m CUDAnative ───────── v3.1.0\n",
            "\u001b[32m\u001b[1m Installed\u001b[22m\u001b[39m FoldingTrees ─────── v1.0.1\n",
            "\u001b[32m\u001b[1m  Updating\u001b[22m\u001b[39m `~/.julia/environments/v1.3/Project.toml`\n",
            " \u001b[90m [3a865a2d]\u001b[39m\u001b[92m + CuArrays v2.2.2\u001b[39m\n",
            "\u001b[32m\u001b[1m  Updating\u001b[22m\u001b[39m `~/.julia/environments/v1.3/Manifest.toml`\n",
            " \u001b[90m [621f4979]\u001b[39m\u001b[92m + AbstractFFTs v0.5.0\u001b[39m\n",
            " \u001b[90m [1520ce14]\u001b[39m\u001b[92m + AbstractTrees v0.3.4\u001b[39m\n",
            " \u001b[90m [79e6a3ab]\u001b[39m\u001b[92m + Adapt v1.1.0\u001b[39m\n",
            " \u001b[90m [b99e7846]\u001b[39m\u001b[92m + BinaryProvider v0.5.10\u001b[39m\n",
            " \u001b[90m [fa961155]\u001b[39m\u001b[92m + CEnum v0.3.0\u001b[39m\n",
            " \u001b[90m [3895d2a7]\u001b[39m\u001b[92m + CUDAapi v4.0.0\u001b[39m\n",
            " \u001b[90m [c5f51814]\u001b[39m\u001b[92m + CUDAdrv v6.3.0\u001b[39m\n",
            " \u001b[90m [be33ccc6]\u001b[39m\u001b[92m + CUDAnative v3.1.0\u001b[39m\n",
            " \u001b[90m [d360d2e6]\u001b[39m\u001b[92m + ChainRulesCore v0.9.37\u001b[39m\n",
            " \u001b[90m [da1fd8a2]\u001b[39m\u001b[92m + CodeTracking v1.0.5\u001b[39m\n",
            " \u001b[90m [34da2185]\u001b[39m\u001b[92m + Compat v3.27.0\u001b[39m\n",
            " \u001b[90m [f68482b8]\u001b[39m\u001b[92m + Cthulhu v1.6.1\u001b[39m\n",
            " \u001b[90m [3a865a2d]\u001b[39m\u001b[92m + CuArrays v2.2.2\u001b[39m\n",
            " \u001b[90m [864edb3b]\u001b[39m\u001b[92m + DataStructures v0.17.20\u001b[39m\n",
            " \u001b[90m [e2ba6199]\u001b[39m\u001b[92m + ExprTools v0.1.3\u001b[39m\n",
            " \u001b[90m [1eca21be]\u001b[39m\u001b[92m + FoldingTrees v1.0.1\u001b[39m\n",
            " \u001b[90m [0c68f7d7]\u001b[39m\u001b[92m + GPUArrays v3.4.1\u001b[39m\n",
            " \u001b[90m [61eb1bfa]\u001b[39m\u001b[92m + GPUCompiler v0.2.0\u001b[39m\n",
            " \u001b[90m [929cbde3]\u001b[39m\u001b[92m + LLVM v1.7.0\u001b[39m\n",
            " \u001b[90m [1914dd2f]\u001b[39m\u001b[92m + MacroTools v0.5.6\u001b[39m\n",
            " \u001b[90m [872c559c]\u001b[39m\u001b[92m + NNlib v0.7.17\u001b[39m\n",
            " \u001b[90m [bac558e1]\u001b[39m\u001b[92m + OrderedCollections v1.4.0\u001b[39m\n",
            " \u001b[90m [189a3867]\u001b[39m\u001b[92m + Reexport v0.2.0\u001b[39m\n",
            " \u001b[90m [ae029012]\u001b[39m\u001b[92m + Requires v1.1.3\u001b[39m\n",
            " \u001b[90m [a759f4b9]\u001b[39m\u001b[92m + TimerOutputs v0.5.8\u001b[39m\n",
            " \u001b[90m [8bb1440f]\u001b[39m\u001b[92m + DelimitedFiles \u001b[39m\n",
            " \u001b[90m [1a1011a3]\u001b[39m\u001b[92m + SharedArrays \u001b[39m\n",
            "\u001b[32m\u001b[1mPrecompiling\u001b[22m\u001b[39m project...\n",
            "\u001b[32m\u001b[1mPrecompiling\u001b[22m\u001b[39m CuArrays\n"
          ],
          "name": "stdout"
        },
        {
          "output_type": "stream",
          "text": [
            "┌ Info: Precompiling CuArrays [3a865a2d-5b23-5a0f-bc46-62713ec82fae]\n",
            "└ @ Base loading.jl:1273\n"
          ],
          "name": "stderr"
        },
        {
          "output_type": "stream",
          "text": [
            "\u001b[32m\u001b[1m Resolving\u001b[22m\u001b[39m package versions...\n",
            "\u001b[32m\u001b[1m Installed\u001b[22m\u001b[39m NaNMath ────────────────────── v0.3.5\n",
            "\u001b[32m\u001b[1m Installed\u001b[22m\u001b[39m CompilerSupportLibraries_jll ─ v0.3.4+0\n",
            "\u001b[32m\u001b[1m Installed\u001b[22m\u001b[39m StatsBase ──────────────────── v0.33.5\n",
            "\u001b[32m\u001b[1m Installed\u001b[22m\u001b[39m DiffResults ────────────────── v1.0.3\n",
            "\u001b[32m\u001b[1m Installed\u001b[22m\u001b[39m NNlib ──────────────────────── v0.6.6\n",
            "\u001b[32m\u001b[1m Installed\u001b[22m\u001b[39m CodecZlib ──────────────────── v0.7.0\n",
            "\u001b[32m\u001b[1m Installed\u001b[22m\u001b[39m DataAPI ────────────────────── v1.6.0\n",
            "\u001b[32m\u001b[1m Installed\u001b[22m\u001b[39m DiffRules ──────────────────── v1.0.2\n",
            "\u001b[32m\u001b[1m Installed\u001b[22m\u001b[39m FillArrays ─────────────────── v0.8.14\n",
            "\u001b[32m\u001b[1m Installed\u001b[22m\u001b[39m Flux ───────────────────────── v0.10.4\n",
            "\u001b[32m\u001b[1m Installed\u001b[22m\u001b[39m StaticArrays ───────────────── v1.1.0\n",
            "\u001b[32m\u001b[1m Installed\u001b[22m\u001b[39m ChainRules ─────────────────── v0.6.5\n",
            "\u001b[32m\u001b[1m Installed\u001b[22m\u001b[39m ArrayLayouts ───────────────── v0.3.8\n",
            "\u001b[32m\u001b[1m Installed\u001b[22m\u001b[39m Media ──────────────────────── v0.5.0\n",
            "\u001b[32m\u001b[1m Installed\u001b[22m\u001b[39m ColorTypes ─────────────────── v0.10.12\n",
            "\u001b[32m\u001b[1m Installed\u001b[22m\u001b[39m Zlib_jll ───────────────────── v1.2.11+18\n",
            "\u001b[32m\u001b[1m Installed\u001b[22m\u001b[39m Zygote ─────────────────────── v0.4.22\n",
            "\u001b[32m\u001b[1m Installed\u001b[22m\u001b[39m ForwardDiff ────────────────── v0.10.18\n",
            "\u001b[32m\u001b[1m Installed\u001b[22m\u001b[39m SpecialFunctions ───────────── v1.1.0\n",
            "\u001b[32m\u001b[1m Installed\u001b[22m\u001b[39m Juno ───────────────────────── v0.8.4\n",
            "\u001b[32m\u001b[1m Installed\u001b[22m\u001b[39m ChainRulesCore ─────────────── v0.8.1\n",
            "\u001b[32m\u001b[1m Installed\u001b[22m\u001b[39m ZygoteRules ────────────────── v0.2.1\n",
            "\u001b[32m\u001b[1m Installed\u001b[22m\u001b[39m Colors ─────────────────────── v0.12.7\n",
            "\u001b[32m\u001b[1m Installed\u001b[22m\u001b[39m FixedPointNumbers ──────────── v0.8.4\n",
            "\u001b[32m\u001b[1m Installed\u001b[22m\u001b[39m IRTools ────────────────────── v0.4.2\n",
            "\u001b[32m\u001b[1m Installed\u001b[22m\u001b[39m TranscodingStreams ─────────── v0.9.5\n",
            "\u001b[32m\u001b[1m Installed\u001b[22m\u001b[39m CommonSubexpressions ───────── v0.3.0\n",
            "\u001b[32m\u001b[1m Installed\u001b[22m\u001b[39m SortingAlgorithms ──────────── v0.3.1\n",
            "\u001b[32m\u001b[1m Installed\u001b[22m\u001b[39m OpenSpecFun_jll ────────────── v0.5.3+4\n",
            "\u001b[32m\u001b[1m Installed\u001b[22m\u001b[39m ZipFile ────────────────────── v0.9.3\n",
            "\u001b[32m\u001b[1m Installed\u001b[22m\u001b[39m Missings ───────────────────── v0.4.5\n",
            "\u001b[32m\u001b[1m Installed\u001b[22m\u001b[39m MuladdMacro ────────────────── v0.2.2\n",
            "\u001b[32m\u001b[1m  Updating\u001b[22m\u001b[39m `~/.julia/environments/v1.3/Project.toml`\n",
            " \u001b[90m [587475ba]\u001b[39m\u001b[92m + Flux v0.10.4\u001b[39m\n",
            "\u001b[32m\u001b[1m  Updating\u001b[22m\u001b[39m `~/.julia/environments/v1.3/Manifest.toml`\n",
            " \u001b[90m [4c555306]\u001b[39m\u001b[92m + ArrayLayouts v0.3.8\u001b[39m\n",
            " \u001b[90m [082447d4]\u001b[39m\u001b[92m + ChainRules v0.6.5\u001b[39m\n",
            " \u001b[90m [d360d2e6]\u001b[39m\u001b[95m ↓ ChainRulesCore v0.9.37 ⇒ v0.8.1\u001b[39m\n",
            " \u001b[90m [944b1d66]\u001b[39m\u001b[92m + CodecZlib v0.7.0\u001b[39m\n",
            " \u001b[90m [3da002f7]\u001b[39m\u001b[92m + ColorTypes v0.10.12\u001b[39m\n",
            " \u001b[90m [5ae59095]\u001b[39m\u001b[92m + Colors v0.12.7\u001b[39m\n",
            " \u001b[90m [bbf7d656]\u001b[39m\u001b[92m + CommonSubexpressions v0.3.0\u001b[39m\n",
            " \u001b[90m [34da2185]\u001b[39m\u001b[91m - Compat v3.27.0\u001b[39m\n",
            " \u001b[90m [e66e0078]\u001b[39m\u001b[92m + CompilerSupportLibraries_jll v0.3.4+0\u001b[39m\n",
            " \u001b[90m [9a962f9c]\u001b[39m\u001b[92m + DataAPI v1.6.0\u001b[39m\n",
            " \u001b[90m [163ba53b]\u001b[39m\u001b[92m + DiffResults v1.0.3\u001b[39m\n",
            " \u001b[90m [b552c78f]\u001b[39m\u001b[92m + DiffRules v1.0.2\u001b[39m\n",
            " \u001b[90m [1a297f60]\u001b[39m\u001b[92m + FillArrays v0.8.14\u001b[39m\n",
            " \u001b[90m [53c48c17]\u001b[39m\u001b[92m + FixedPointNumbers v0.8.4\u001b[39m\n",
            " \u001b[90m [587475ba]\u001b[39m\u001b[92m + Flux v0.10.4\u001b[39m\n",
            " \u001b[90m [f6369f11]\u001b[39m\u001b[92m + ForwardDiff v0.10.18\u001b[39m\n",
            " \u001b[90m [7869d1d1]\u001b[39m\u001b[92m + IRTools v0.4.2\u001b[39m\n",
            " \u001b[90m [e5e0dc1b]\u001b[39m\u001b[92m + Juno v0.8.4\u001b[39m\n",
            " \u001b[90m [e89f7d12]\u001b[39m\u001b[92m + Media v0.5.0\u001b[39m\n",
            " \u001b[90m [e1d29d7a]\u001b[39m\u001b[92m + Missings v0.4.5\u001b[39m\n",
            " \u001b[90m [46d2c3a1]\u001b[39m\u001b[92m + MuladdMacro v0.2.2\u001b[39m\n",
            " \u001b[90m [872c559c]\u001b[39m\u001b[95m ↓ NNlib v0.7.17 ⇒ v0.6.6\u001b[39m\n",
            " \u001b[90m [77ba4419]\u001b[39m\u001b[92m + NaNMath v0.3.5\u001b[39m\n",
            " \u001b[90m [efe28fd5]\u001b[39m\u001b[92m + OpenSpecFun_jll v0.5.3+4\u001b[39m\n",
            " \u001b[90m [a2af1166]\u001b[39m\u001b[92m + SortingAlgorithms v0.3.1\u001b[39m\n",
            " \u001b[90m [276daf66]\u001b[39m\u001b[92m + SpecialFunctions v1.1.0\u001b[39m\n",
            " \u001b[90m [90137ffa]\u001b[39m\u001b[92m + StaticArrays v1.1.0\u001b[39m\n",
            " \u001b[90m [2913bbd2]\u001b[39m\u001b[92m + StatsBase v0.33.5\u001b[39m\n",
            " \u001b[90m [3bb67fe8]\u001b[39m\u001b[92m + TranscodingStreams v0.9.5\u001b[39m\n",
            " \u001b[90m [a5390f91]\u001b[39m\u001b[92m + ZipFile v0.9.3\u001b[39m\n",
            " \u001b[90m [83775a58]\u001b[39m\u001b[92m + Zlib_jll v1.2.11+18\u001b[39m\n",
            " \u001b[90m [e88e6eb3]\u001b[39m\u001b[92m + Zygote v0.4.22\u001b[39m\n",
            " \u001b[90m [700de1a5]\u001b[39m\u001b[92m + ZygoteRules v0.2.1\u001b[39m\n",
            " \u001b[90m [9fa8497b]\u001b[39m\u001b[92m + Future \u001b[39m\n",
            " \u001b[90m [9abbd945]\u001b[39m\u001b[92m + Profile \u001b[39m\n",
            " \u001b[90m [1a1011a3]\u001b[39m\u001b[91m - SharedArrays \u001b[39m\n",
            "\u001b[32m\u001b[1m  Building\u001b[22m\u001b[39m NNlib → `~/.julia/packages/NNlib/FAI3o/deps/build.log`\n",
            "\u001b[32m\u001b[1mPrecompiling\u001b[22m\u001b[39m project...\n",
            "\u001b[32m\u001b[1mPrecompiling\u001b[22m\u001b[39m CuArrays\n"
          ],
          "name": "stdout"
        },
        {
          "output_type": "stream",
          "text": [
            "┌ Info: Precompiling CuArrays [3a865a2d-5b23-5a0f-bc46-62713ec82fae]\n",
            "└ @ Base loading.jl:1273\n"
          ],
          "name": "stderr"
        },
        {
          "output_type": "stream",
          "text": [
            "\u001b[32m\u001b[1mPrecompiling\u001b[22m\u001b[39m Flux\n"
          ],
          "name": "stdout"
        },
        {
          "output_type": "stream",
          "text": [
            "┌ Info: Precompiling Flux [587475ba-b771-5e3f-ad9e-33799f191a9c]\n",
            "└ @ Base loading.jl:1273\n"
          ],
          "name": "stderr"
        },
        {
          "output_type": "stream",
          "text": [
            "126.263894 seconds (4.07 M allocations: 256.384 MiB, 0.07% gc time)\n"
          ],
          "name": "stdout"
        }
      ]
    },
    {
      "cell_type": "markdown",
      "metadata": {
        "id": "TRNfbKCtS5Y5"
      },
      "source": [
        "# Loading the packages and loading the data files\n",
        "\n"
      ]
    },
    {
      "cell_type": "code",
      "metadata": {
        "colab": {
          "base_uri": "https://localhost:8080/",
          "height": 1000
        },
        "id": "aMI2QjTuyXs2",
        "outputId": "fc018cef-19b4-45c3-d497-36742469e545"
      },
      "source": [
        "Pkg.add(\"Plots\")\n",
        "Pkg.add(\"Images\")\n",
        "Pkg.add(\"Interact\")\n",
        "Pkg.add(\"JLD2\")\n",
        "Pkg.add(\"IterTools\")\n",
        "\n",
        "using Plots, Images, Interact, JLD2\n",
        "using Flux, CuArrays\n",
        "using Flux: onehotbatch, argmax, crossentropy, throttle, mse, onecold, shuffle\n",
        "using Flux.Data: DataLoader\n",
        "using IterTools: ncycle, partition\n",
        "\n",
        "theme(\n",
        "    :wong;\n",
        "    format=:png,\n",
        "    label=\"\",\n",
        "    markerstrokewidth=0.3,\n",
        "    markerstrokecolor=\"white\",\n",
        "    markersize=6,\n",
        "    alpha=0.7\n",
        ")"
      ],
      "execution_count": 2,
      "outputs": [
        {
          "output_type": "stream",
          "text": [
            "\u001b[32m\u001b[1m Resolving\u001b[22m\u001b[39m package versions...\n",
            "\u001b[32m\u001b[1m Installed\u001b[22m\u001b[39m Bzip2_jll ─────────────────── v1.0.6+5\n",
            "\u001b[32m\u001b[1m Installed\u001b[22m\u001b[39m PlotUtils ─────────────────── v1.0.10\n",
            "\u001b[32m\u001b[1m Installed\u001b[22m\u001b[39m x265_jll ──────────────────── v3.0.0+3\n",
            "\u001b[32m\u001b[1m Installed\u001b[22m\u001b[39m LibVPX_jll ────────────────── v1.9.0+1\n",
            "\u001b[32m\u001b[1m Installed\u001b[22m\u001b[39m IterTools ─────────────────── v1.3.0\n",
            "\u001b[32m\u001b[1m Installed\u001b[22m\u001b[39m Measures ──────────────────── v0.3.1\n",
            "\u001b[32m\u001b[1m Installed\u001b[22m\u001b[39m Plots ─────────────────────── v1.6.12\n",
            "\u001b[32m\u001b[1m Installed\u001b[22m\u001b[39m libvorbis_jll ─────────────── v1.3.6+6\n",
            "\u001b[32m\u001b[1m Installed\u001b[22m\u001b[39m FFMPEG ────────────────────── v0.4.0\n",
            "\u001b[32m\u001b[1m Installed\u001b[22m\u001b[39m GeometryTypes ─────────────── v0.8.4\n",
            "\u001b[32m\u001b[1m Installed\u001b[22m\u001b[39m FriBidi_jll ───────────────── v1.0.5+6\n",
            "\u001b[32m\u001b[1m Installed\u001b[22m\u001b[39m HTTP ──────────────────────── v0.8.19\n",
            "\u001b[32m\u001b[1m Installed\u001b[22m\u001b[39m Latexify ──────────────────── v0.14.12\n",
            "\u001b[32m\u001b[1m Installed\u001b[22m\u001b[39m PlotThemes ────────────────── v2.0.1\n",
            "\u001b[32m\u001b[1m Installed\u001b[22m\u001b[39m Showoff ───────────────────── v0.3.2\n",
            "\u001b[32m\u001b[1m Installed\u001b[22m\u001b[39m OpenSSL_jll ───────────────── v1.1.1+6\n",
            "\u001b[32m\u001b[1m Installed\u001b[22m\u001b[39m DataValueInterfaces ───────── v1.0.0\n",
            "\u001b[32m\u001b[1m Installed\u001b[22m\u001b[39m RecipesBase ───────────────── v1.1.1\n",
            "\u001b[32m\u001b[1m Installed\u001b[22m\u001b[39m FreeType2_jll ─────────────── v2.10.1+5\n",
            "\u001b[32m\u001b[1m Installed\u001b[22m\u001b[39m IteratorInterfaceExtensions ─ v1.0.0\n",
            "\u001b[32m\u001b[1m Installed\u001b[22m\u001b[39m GeometryBasics ────────────── v0.3.12\n",
            "\u001b[32m\u001b[1m Installed\u001b[22m\u001b[39m x264_jll ──────────────────── v2020.7.14+2\n",
            "\u001b[32m\u001b[1m Installed\u001b[22m\u001b[39m Formatting ────────────────── v0.4.2\n",
            "\u001b[32m\u001b[1m Installed\u001b[22m\u001b[39m Tables ────────────────────── v1.4.1\n",
            "\u001b[32m\u001b[1m Installed\u001b[22m\u001b[39m EarCut_jll ────────────────── v2.1.5+1\n",
            "\u001b[32m\u001b[1m Installed\u001b[22m\u001b[39m TableTraits ───────────────── v1.0.1\n",
            "\u001b[32m\u001b[1m Installed\u001b[22m\u001b[39m StructArrays ──────────────── v0.5.1\n",
            "\u001b[32m\u001b[1m Installed\u001b[22m\u001b[39m IniFile ───────────────────── v0.5.0\n",
            "\u001b[32m\u001b[1m Installed\u001b[22m\u001b[39m Grisu ─────────────────────── v1.0.0\n",
            "\u001b[32m\u001b[1m Installed\u001b[22m\u001b[39m LaTeXStrings ──────────────── v1.2.1\n",
            "\u001b[32m\u001b[1m Installed\u001b[22m\u001b[39m FFMPEG_jll ────────────────── v4.3.1+4\n",
            "\u001b[32m\u001b[1m Installed\u001b[22m\u001b[39m libfdk_aac_jll ────────────── v0.1.6+4\n",
            "\u001b[32m\u001b[1m Installed\u001b[22m\u001b[39m RecipesPipeline ───────────── v0.1.13\n",
            "\u001b[32m\u001b[1m Installed\u001b[22m\u001b[39m libass_jll ────────────────── v0.14.0+4\n",
            "\u001b[32m\u001b[1m Installed\u001b[22m\u001b[39m Ogg_jll ───────────────────── v1.3.4+2\n",
            "\u001b[32m\u001b[1m Installed\u001b[22m\u001b[39m LAME_jll ──────────────────── v3.100.0+3\n",
            "\u001b[32m\u001b[1m Installed\u001b[22m\u001b[39m Opus_jll ──────────────────── v1.3.1+3\n",
            "\u001b[32m\u001b[1m Installed\u001b[22m\u001b[39m Contour ───────────────────── v0.5.7\n",
            "\u001b[32m\u001b[1m Installed\u001b[22m\u001b[39m GR ────────────────────────── v0.52.0\n",
            "\u001b[32m\u001b[1m Installed\u001b[22m\u001b[39m ColorSchemes ──────────────── v3.11.0\n",
            "\u001b[32m\u001b[1m  Updating\u001b[22m\u001b[39m `~/.julia/environments/v1.3/Project.toml`\n",
            " \u001b[90m [91a5bcdd]\u001b[39m\u001b[92m + Plots v1.6.12\u001b[39m\n",
            "\u001b[32m\u001b[1m  Updating\u001b[22m\u001b[39m `~/.julia/environments/v1.3/Manifest.toml`\n",
            " \u001b[90m [6e34b625]\u001b[39m\u001b[92m + Bzip2_jll v1.0.6+5\u001b[39m\n",
            " \u001b[90m [35d6a980]\u001b[39m\u001b[92m + ColorSchemes v3.11.0\u001b[39m\n",
            " \u001b[90m [d38c429a]\u001b[39m\u001b[92m + Contour v0.5.7\u001b[39m\n",
            " \u001b[90m [e2d170a0]\u001b[39m\u001b[92m + DataValueInterfaces v1.0.0\u001b[39m\n",
            " \u001b[90m [5ae413db]\u001b[39m\u001b[92m + EarCut_jll v2.1.5+1\u001b[39m\n",
            " \u001b[90m [c87230d0]\u001b[39m\u001b[92m + FFMPEG v0.4.0\u001b[39m\n",
            " \u001b[90m [b22a6f82]\u001b[39m\u001b[92m + FFMPEG_jll v4.3.1+4\u001b[39m\n",
            " \u001b[90m [59287772]\u001b[39m\u001b[92m + Formatting v0.4.2\u001b[39m\n",
            " \u001b[90m [d7e528f0]\u001b[39m\u001b[92m + FreeType2_jll v2.10.1+5\u001b[39m\n",
            " \u001b[90m [559328eb]\u001b[39m\u001b[92m + FriBidi_jll v1.0.5+6\u001b[39m\n",
            " \u001b[90m [28b8d3ca]\u001b[39m\u001b[92m + GR v0.52.0\u001b[39m\n",
            " \u001b[90m [5c1252a2]\u001b[39m\u001b[92m + GeometryBasics v0.3.12\u001b[39m\n",
            " \u001b[90m [4d00f742]\u001b[39m\u001b[92m + GeometryTypes v0.8.4\u001b[39m\n",
            " \u001b[90m [42e2da0e]\u001b[39m\u001b[92m + Grisu v1.0.0\u001b[39m\n",
            " \u001b[90m [cd3eb016]\u001b[39m\u001b[92m + HTTP v0.8.19\u001b[39m\n",
            " \u001b[90m [83e8ac13]\u001b[39m\u001b[92m + IniFile v0.5.0\u001b[39m\n",
            " \u001b[90m [c8e1da08]\u001b[39m\u001b[92m + IterTools v1.3.0\u001b[39m\n",
            " \u001b[90m [82899510]\u001b[39m\u001b[92m + IteratorInterfaceExtensions v1.0.0\u001b[39m\n",
            " \u001b[90m [c1c5ebd0]\u001b[39m\u001b[92m + LAME_jll v3.100.0+3\u001b[39m\n",
            " \u001b[90m [b964fa9f]\u001b[39m\u001b[92m + LaTeXStrings v1.2.1\u001b[39m\n",
            " \u001b[90m [23fbe1c1]\u001b[39m\u001b[92m + Latexify v0.14.12\u001b[39m\n",
            " \u001b[90m [dd192d2f]\u001b[39m\u001b[92m + LibVPX_jll v1.9.0+1\u001b[39m\n",
            " \u001b[90m [442fdcdd]\u001b[39m\u001b[92m + Measures v0.3.1\u001b[39m\n",
            " \u001b[90m [e7412a2a]\u001b[39m\u001b[92m + Ogg_jll v1.3.4+2\u001b[39m\n",
            " \u001b[90m [458c3c95]\u001b[39m\u001b[92m + OpenSSL_jll v1.1.1+6\u001b[39m\n",
            " \u001b[90m [91d4177d]\u001b[39m\u001b[92m + Opus_jll v1.3.1+3\u001b[39m\n",
            " \u001b[90m [ccf2f8ad]\u001b[39m\u001b[92m + PlotThemes v2.0.1\u001b[39m\n",
            " \u001b[90m [995b91a9]\u001b[39m\u001b[92m + PlotUtils v1.0.10\u001b[39m\n",
            " \u001b[90m [91a5bcdd]\u001b[39m\u001b[92m + Plots v1.6.12\u001b[39m\n",
            " \u001b[90m [3cdcf5f2]\u001b[39m\u001b[92m + RecipesBase v1.1.1\u001b[39m\n",
            " \u001b[90m [01d81517]\u001b[39m\u001b[92m + RecipesPipeline v0.1.13\u001b[39m\n",
            " \u001b[90m [992d4aef]\u001b[39m\u001b[92m + Showoff v0.3.2\u001b[39m\n",
            " \u001b[90m [09ab397b]\u001b[39m\u001b[92m + StructArrays v0.5.1\u001b[39m\n",
            " \u001b[90m [3783bdb8]\u001b[39m\u001b[92m + TableTraits v1.0.1\u001b[39m\n",
            " \u001b[90m [bd369af6]\u001b[39m\u001b[92m + Tables v1.4.1\u001b[39m\n",
            " \u001b[90m [0ac62f75]\u001b[39m\u001b[92m + libass_jll v0.14.0+4\u001b[39m\n",
            " \u001b[90m [f638f0a6]\u001b[39m\u001b[92m + libfdk_aac_jll v0.1.6+4\u001b[39m\n",
            " \u001b[90m [f27f6e37]\u001b[39m\u001b[92m + libvorbis_jll v1.3.6+6\u001b[39m\n",
            " \u001b[90m [1270edf5]\u001b[39m\u001b[92m + x264_jll v2020.7.14+2\u001b[39m\n",
            " \u001b[90m [dfaa095f]\u001b[39m\u001b[92m + x265_jll v3.0.0+3\u001b[39m\n",
            "\u001b[32m\u001b[1m  Building\u001b[22m\u001b[39m GR → `~/.julia/packages/GR/BwGt2/deps/build.log`\n",
            "\u001b[32m\u001b[1m Resolving\u001b[22m\u001b[39m package versions...\n",
            "\u001b[32m\u001b[1m Installed\u001b[22m\u001b[39m IntelOpenMP_jll ─────────── v2018.0.3+2\n",
            "\u001b[32m\u001b[1m Installed\u001b[22m\u001b[39m Graphics ────────────────── v1.1.0\n",
            "\u001b[32m\u001b[1m Installed\u001b[22m\u001b[39m ComputationalResources ──── v0.3.2\n",
            "\u001b[32m\u001b[1m Installed\u001b[22m\u001b[39m Images ──────────────────── v0.23.3\n",
            "\u001b[32m\u001b[1m Installed\u001b[22m\u001b[39m ImageMetadata ───────────── v0.9.4\n",
            "\u001b[32m\u001b[1m Installed\u001b[22m\u001b[39m CoordinateTransformations ─ v0.6.1\n",
            "\u001b[32m\u001b[1m Installed\u001b[22m\u001b[39m ColorVectorSpace ────────── v0.8.7\n",
            "\u001b[32m\u001b[1m Installed\u001b[22m\u001b[39m ImageMorphology ─────────── v0.2.9\n",
            "\u001b[32m\u001b[1m Installed\u001b[22m\u001b[39m WoodburyMatrices ────────── v0.5.3\n",
            "\u001b[32m\u001b[1m Installed\u001b[22m\u001b[39m AxisAlgorithms ──────────── v1.0.0\n",
            "\u001b[32m\u001b[1m Installed\u001b[22m\u001b[39m MKL_jll ─────────────────── v2020.2.254+0\n",
            "\u001b[32m\u001b[1m Installed\u001b[22m\u001b[39m Ratios ──────────────────── v0.4.0\n",
            "\u001b[32m\u001b[1m Installed\u001b[22m\u001b[39m SimpleTraits ────────────── v0.9.3\n",
            "\u001b[32m\u001b[1m Installed\u001b[22m\u001b[39m ImageCore ───────────────── v0.8.21\n",
            "\u001b[32m\u001b[1m Installed\u001b[22m\u001b[39m AxisArrays ──────────────── v0.4.3\n",
            "\u001b[32m\u001b[1m Installed\u001b[22m\u001b[39m Distances ───────────────── v0.10.2\n",
            "\u001b[32m\u001b[1m Installed\u001b[22m\u001b[39m CustomUnitRanges ────────── v1.0.1\n",
            "\u001b[32m\u001b[1m Installed\u001b[22m\u001b[39m OffsetArrays ────────────── v1.3.1\n",
            "\u001b[32m\u001b[1m Installed\u001b[22m\u001b[39m FFTW_jll ────────────────── v3.3.9+7\n",
            "\u001b[32m\u001b[1m Installed\u001b[22m\u001b[39m ImageQualityIndexes ─────── v0.2.1\n",
            "\u001b[32m\u001b[1m Installed\u001b[22m\u001b[39m ImageShow ───────────────── v0.2.3\n",
            "\u001b[32m\u001b[1m Installed\u001b[22m\u001b[39m ImageDistances ──────────── v0.2.12\n",
            "\u001b[32m\u001b[1m Installed\u001b[22m\u001b[39m FFTViews ────────────────── v0.3.1\n",
            "\u001b[32m\u001b[1m Installed\u001b[22m\u001b[39m MappedArrays ────────────── v0.3.0\n",
            "\u001b[32m\u001b[1m Installed\u001b[22m\u001b[39m IdentityRanges ──────────── v0.3.1\n",
            "\u001b[32m\u001b[1m Installed\u001b[22m\u001b[39m CatIndices ──────────────── v0.2.2\n",
            "\u001b[32m\u001b[1m Installed\u001b[22m\u001b[39m Rotations ───────────────── v1.0.2\n",
            "\u001b[32m\u001b[1m Installed\u001b[22m\u001b[39m Parameters ──────────────── v0.12.2\n",
            "\u001b[32m\u001b[1m Installed\u001b[22m\u001b[39m Interpolations ──────────── v0.13.1\n",
            "\u001b[32m\u001b[1m Installed\u001b[22m\u001b[39m IndirectArrays ──────────── v0.5.1\n",
            "\u001b[32m\u001b[1m Installed\u001b[22m\u001b[39m FileIO ──────────────────── v1.6.5\n",
            "\u001b[32m\u001b[1m Installed\u001b[22m\u001b[39m ImageTransformations ────── v0.8.10\n",
            "\u001b[32m\u001b[1m Installed\u001b[22m\u001b[39m UnPack ──────────────────── v1.0.2\n",
            "\u001b[32m\u001b[1m Installed\u001b[22m\u001b[39m PaddedViews ─────────────── v0.5.8\n",
            "\u001b[32m\u001b[1m Installed\u001b[22m\u001b[39m RangeArrays ─────────────── v0.3.2\n",
            "\u001b[32m\u001b[1m Installed\u001b[22m\u001b[39m EllipsisNotation ────────── v1.0.0\n",
            "\u001b[32m\u001b[1m Installed\u001b[22m\u001b[39m FFTW ────────────────────── v1.3.0\n",
            "\u001b[32m\u001b[1m Installed\u001b[22m\u001b[39m ImageAxes ───────────────── v0.6.8\n",
            "\u001b[32m\u001b[1m Installed\u001b[22m\u001b[39m MosaicViews ─────────────── v0.2.4\n",
            "\u001b[32m\u001b[1m Installed\u001b[22m\u001b[39m IntervalSets ────────────── v0.5.3\n",
            "\u001b[32m\u001b[1m Installed\u001b[22m\u001b[39m TiledIteration ──────────── v0.2.5\n",
            "\u001b[32m\u001b[1m Installed\u001b[22m\u001b[39m ImageFiltering ──────────── v0.6.20\n",
            "\u001b[32m\u001b[1m Installed\u001b[22m\u001b[39m ImageContrastAdjustment ─── v0.3.6\n",
            "\u001b[32m\u001b[1m  Updating\u001b[22m\u001b[39m `~/.julia/environments/v1.3/Project.toml`\n",
            " \u001b[90m [916415d5]\u001b[39m\u001b[92m + Images v0.23.3\u001b[39m\n",
            "\u001b[32m\u001b[1m  Updating\u001b[22m\u001b[39m `~/.julia/environments/v1.3/Manifest.toml`\n",
            " \u001b[90m [13072b0f]\u001b[39m\u001b[92m + AxisAlgorithms v1.0.0\u001b[39m\n",
            " \u001b[90m [39de3d68]\u001b[39m\u001b[92m + AxisArrays v0.4.3\u001b[39m\n",
            " \u001b[90m [aafaddc9]\u001b[39m\u001b[92m + CatIndices v0.2.2\u001b[39m\n",
            " \u001b[90m [c3611d14]\u001b[39m\u001b[92m + ColorVectorSpace v0.8.7\u001b[39m\n",
            " \u001b[90m [ed09eef8]\u001b[39m\u001b[92m + ComputationalResources v0.3.2\u001b[39m\n",
            " \u001b[90m [150eb455]\u001b[39m\u001b[92m + CoordinateTransformations v0.6.1\u001b[39m\n",
            " \u001b[90m [dc8bdbbb]\u001b[39m\u001b[92m + CustomUnitRanges v1.0.1\u001b[39m\n",
            " \u001b[90m [b4f34e82]\u001b[39m\u001b[92m + Distances v0.10.2\u001b[39m\n",
            " \u001b[90m [da5c29d0]\u001b[39m\u001b[92m + EllipsisNotation v1.0.0\u001b[39m\n",
            " \u001b[90m [4f61f5a4]\u001b[39m\u001b[92m + FFTViews v0.3.1\u001b[39m\n",
            " \u001b[90m [7a1cc6ca]\u001b[39m\u001b[92m + FFTW v1.3.0\u001b[39m\n",
            " \u001b[90m [f5851436]\u001b[39m\u001b[92m + FFTW_jll v3.3.9+7\u001b[39m\n",
            " \u001b[90m [5789e2e9]\u001b[39m\u001b[92m + FileIO v1.6.5\u001b[39m\n",
            " \u001b[90m [a2bd30eb]\u001b[39m\u001b[92m + Graphics v1.1.0\u001b[39m\n",
            " \u001b[90m [bbac6d45]\u001b[39m\u001b[92m + IdentityRanges v0.3.1\u001b[39m\n",
            " \u001b[90m [2803e5a7]\u001b[39m\u001b[92m + ImageAxes v0.6.8\u001b[39m\n",
            " \u001b[90m [f332f351]\u001b[39m\u001b[92m + ImageContrastAdjustment v0.3.6\u001b[39m\n",
            " \u001b[90m [a09fc81d]\u001b[39m\u001b[92m + ImageCore v0.8.21\u001b[39m\n",
            " \u001b[90m [51556ac3]\u001b[39m\u001b[92m + ImageDistances v0.2.12\u001b[39m\n",
            " \u001b[90m [6a3955dd]\u001b[39m\u001b[92m + ImageFiltering v0.6.20\u001b[39m\n",
            " \u001b[90m [bc367c6b]\u001b[39m\u001b[92m + ImageMetadata v0.9.4\u001b[39m\n",
            " \u001b[90m [787d08f9]\u001b[39m\u001b[92m + ImageMorphology v0.2.9\u001b[39m\n",
            " \u001b[90m [2996bd0c]\u001b[39m\u001b[92m + ImageQualityIndexes v0.2.1\u001b[39m\n",
            " \u001b[90m [4e3cecfd]\u001b[39m\u001b[92m + ImageShow v0.2.3\u001b[39m\n",
            " \u001b[90m [02fcd773]\u001b[39m\u001b[92m + ImageTransformations v0.8.10\u001b[39m\n",
            " \u001b[90m [916415d5]\u001b[39m\u001b[92m + Images v0.23.3\u001b[39m\n",
            " \u001b[90m [9b13fd28]\u001b[39m\u001b[92m + IndirectArrays v0.5.1\u001b[39m\n",
            " \u001b[90m [1d5cc7b8]\u001b[39m\u001b[92m + IntelOpenMP_jll v2018.0.3+2\u001b[39m\n",
            " \u001b[90m [a98d9a8b]\u001b[39m\u001b[92m + Interpolations v0.13.1\u001b[39m\n",
            " \u001b[90m [8197267c]\u001b[39m\u001b[92m + IntervalSets v0.5.3\u001b[39m\n",
            " \u001b[90m [856f044c]\u001b[39m\u001b[92m + MKL_jll v2020.2.254+0\u001b[39m\n",
            " \u001b[90m [dbb5928d]\u001b[39m\u001b[92m + MappedArrays v0.3.0\u001b[39m\n",
            " \u001b[90m [e94cdb99]\u001b[39m\u001b[92m + MosaicViews v0.2.4\u001b[39m\n",
            " \u001b[90m [6fe1bfb0]\u001b[39m\u001b[92m + OffsetArrays v1.3.1\u001b[39m\n",
            " \u001b[90m [5432bcbf]\u001b[39m\u001b[92m + PaddedViews v0.5.8\u001b[39m\n",
            " \u001b[90m [d96e819e]\u001b[39m\u001b[92m + Parameters v0.12.2\u001b[39m\n",
            " \u001b[90m [b3c3ace0]\u001b[39m\u001b[92m + RangeArrays v0.3.2\u001b[39m\n",
            " \u001b[90m [c84ed2f1]\u001b[39m\u001b[92m + Ratios v0.4.0\u001b[39m\n",
            " \u001b[90m [6038ab10]\u001b[39m\u001b[92m + Rotations v1.0.2\u001b[39m\n",
            " \u001b[90m [699a6c99]\u001b[39m\u001b[92m + SimpleTraits v0.9.3\u001b[39m\n",
            " \u001b[90m [06e1c1a7]\u001b[39m\u001b[92m + TiledIteration v0.2.5\u001b[39m\n",
            " \u001b[90m [3a884ed6]\u001b[39m\u001b[92m + UnPack v1.0.2\u001b[39m\n",
            " \u001b[90m [efce3f68]\u001b[39m\u001b[92m + WoodburyMatrices v0.5.3\u001b[39m\n",
            " \u001b[90m [1a1011a3]\u001b[39m\u001b[92m + SharedArrays \u001b[39m\n",
            "\u001b[32m\u001b[1m  Building\u001b[22m\u001b[39m FFTW → `~/.julia/packages/FFTW/ayqyZ/deps/build.log`\n",
            "\u001b[32m\u001b[1m Resolving\u001b[22m\u001b[39m package versions...\n",
            "\u001b[32m\u001b[1m Installed\u001b[22m\u001b[39m Pidfile ─────────────── v1.2.0\n",
            "\u001b[32m\u001b[1m Installed\u001b[22m\u001b[39m Interact ────────────── v0.10.3\n",
            "\u001b[32m\u001b[1m Installed\u001b[22m\u001b[39m Knockout ────────────── v0.2.4\n",
            "\u001b[32m\u001b[1m Installed\u001b[22m\u001b[39m WebSockets ──────────── v1.5.9\n",
            "\u001b[32m\u001b[1m Installed\u001b[22m\u001b[39m Observables ─────────── v0.3.3\n",
            "\u001b[32m\u001b[1m Installed\u001b[22m\u001b[39m AssetRegistry ───────── v0.1.0\n",
            "\u001b[32m\u001b[1m Installed\u001b[22m\u001b[39m FunctionalCollections ─ v0.5.0\n",
            "\u001b[32m\u001b[1m Installed\u001b[22m\u001b[39m ImageCore ───────────── v0.8.12\n",
            "\u001b[32m\u001b[1m Installed\u001b[22m\u001b[39m MappedArrays ────────── v0.2.2\n",
            "\u001b[32m\u001b[1m Installed\u001b[22m\u001b[39m Widgets ─────────────── v0.6.2\n",
            "\u001b[32m\u001b[1m Installed\u001b[22m\u001b[39m JSExpr ──────────────── v0.5.2\n",
            "\u001b[32m\u001b[1m Installed\u001b[22m\u001b[39m WebIO ───────────────── v0.8.15\n",
            "\u001b[32m\u001b[1m Installed\u001b[22m\u001b[39m CSSUtil ─────────────── v0.1.1\n",
            "\u001b[32m\u001b[1m Installed\u001b[22m\u001b[39m InteractBase ────────── v0.10.6\n",
            "\u001b[32m\u001b[1m  Updating\u001b[22m\u001b[39m `~/.julia/environments/v1.3/Project.toml`\n",
            " \u001b[90m [c601a237]\u001b[39m\u001b[92m + Interact v0.10.3\u001b[39m\n",
            "\u001b[32m\u001b[1m  Updating\u001b[22m\u001b[39m `~/.julia/environments/v1.3/Manifest.toml`\n",
            " \u001b[90m [bf4720bc]\u001b[39m\u001b[92m + AssetRegistry v0.1.0\u001b[39m\n",
            " \u001b[90m [70588ee8]\u001b[39m\u001b[92m + CSSUtil v0.1.1\u001b[39m\n",
            " \u001b[90m [de31a74c]\u001b[39m\u001b[92m + FunctionalCollections v0.5.0\u001b[39m\n",
            " \u001b[90m [a09fc81d]\u001b[39m\u001b[95m ↓ ImageCore v0.8.21 ⇒ v0.8.12\u001b[39m\n",
            " \u001b[90m [c601a237]\u001b[39m\u001b[92m + Interact v0.10.3\u001b[39m\n",
            " \u001b[90m [d3863d7c]\u001b[39m\u001b[92m + InteractBase v0.10.6\u001b[39m\n",
            " \u001b[90m [97c1335a]\u001b[39m\u001b[92m + JSExpr v0.5.2\u001b[39m\n",
            " \u001b[90m [bcebb21b]\u001b[39m\u001b[92m + Knockout v0.2.4\u001b[39m\n",
            " \u001b[90m [dbb5928d]\u001b[39m\u001b[95m ↓ MappedArrays v0.3.0 ⇒ v0.2.2\u001b[39m\n",
            " \u001b[90m [e94cdb99]\u001b[39m\u001b[91m - MosaicViews v0.2.4\u001b[39m\n",
            " \u001b[90m [510215fc]\u001b[39m\u001b[92m + Observables v0.3.3\u001b[39m\n",
            " \u001b[90m [fa939f87]\u001b[39m\u001b[92m + Pidfile v1.2.0\u001b[39m\n",
            " \u001b[90m [0f1e0344]\u001b[39m\u001b[92m + WebIO v0.8.15\u001b[39m\n",
            " \u001b[90m [104b5d7c]\u001b[39m\u001b[92m + WebSockets v1.5.9\u001b[39m\n",
            " \u001b[90m [cc8bc4a8]\u001b[39m\u001b[92m + Widgets v0.6.2\u001b[39m\n",
            "\u001b[32m\u001b[1m  Building\u001b[22m\u001b[39m WebIO ───────→ `~/.julia/packages/WebIO/Fy9h1/deps/build.log`\n",
            "\u001b[32m\u001b[1m  Building\u001b[22m\u001b[39m Knockout ────→ `~/.julia/packages/Knockout/IP1uR/deps/build.log`\n",
            "\u001b[32m\u001b[1m  Building\u001b[22m\u001b[39m InteractBase → `~/.julia/packages/InteractBase/Zfu5P/deps/build.log`\n",
            "\u001b[32m\u001b[1m  Building\u001b[22m\u001b[39m Interact ────→ `~/.julia/packages/Interact/SbgIk/deps/build.log`\n",
            "\u001b[32m\u001b[1m Resolving\u001b[22m\u001b[39m package versions...\n",
            "\u001b[32m\u001b[1m Installed\u001b[22m\u001b[39m JLD2 ─ v0.4.3\n",
            "\u001b[32m\u001b[1m  Updating\u001b[22m\u001b[39m `~/.julia/environments/v1.3/Project.toml`\n",
            " \u001b[90m [033835bb]\u001b[39m\u001b[92m + JLD2 v0.4.3\u001b[39m\n",
            "\u001b[32m\u001b[1m  Updating\u001b[22m\u001b[39m `~/.julia/environments/v1.3/Manifest.toml`\n",
            " \u001b[90m [033835bb]\u001b[39m\u001b[92m + JLD2 v0.4.3\u001b[39m\n",
            "\u001b[32m\u001b[1m Resolving\u001b[22m\u001b[39m package versions...\n",
            "\u001b[32m\u001b[1m  Updating\u001b[22m\u001b[39m `~/.julia/environments/v1.3/Project.toml`\n",
            " \u001b[90m [c8e1da08]\u001b[39m\u001b[92m + IterTools v1.3.0\u001b[39m\n",
            "\u001b[32m\u001b[1m  Updating\u001b[22m\u001b[39m `~/.julia/environments/v1.3/Manifest.toml`\n",
            " \u001b[90m [a09fc81d]\u001b[39m\u001b[93m ↑ ImageCore v0.8.12 ⇒ v0.8.21\u001b[39m\n",
            " \u001b[90m [dbb5928d]\u001b[39m\u001b[93m ↑ MappedArrays v0.2.2 ⇒ v0.3.0\u001b[39m\n",
            " \u001b[90m [e94cdb99]\u001b[39m\u001b[92m + MosaicViews v0.2.4\u001b[39m\n"
          ],
          "name": "stdout"
        },
        {
          "output_type": "stream",
          "text": [
            "┌ Info: Precompiling Plots [91a5bcdd-55d7-5caf-9e0b-520d859cae80]\n",
            "└ @ Base loading.jl:1273\n",
            "┌ Info: Precompiling Images [916415d5-f1e6-5110-898d-aaa5f9f070e0]\n",
            "└ @ Base loading.jl:1273\n",
            "┌ Info: Precompiling Interact [c601a237-2ae4-5e1e-952c-7a85b0c7eef1]\n",
            "└ @ Base loading.jl:1273\n"
          ],
          "name": "stderr"
        },
        {
          "output_type": "display_data",
          "data": {
            "text/html": [
              "<script>\n",
              "// Immediately-invoked-function-expression to avoid global variables.\n",
              "(function() {\n",
              "    var warning_div = document.getElementById(\"webio-warning-5314710409501922277\");\n",
              "    var hide = function () {\n",
              "        var script = document.getElementById(\"webio-setup-15349782376868254402\");\n",
              "        var parent = script && script.parentElement;\n",
              "        var grandparent = parent && parent.parentElement;\n",
              "        if (grandparent) {\n",
              "            grandparent.style.display = \"none\";\n",
              "        }\n",
              "        warning_div.style.display = \"none\";\n",
              "    };\n",
              "    if (typeof Jupyter !== \"undefined\") {\n",
              "        console.log(\"WebIO detected Jupyter notebook environment.\");\n",
              "        // Jupyter notebook.\n",
              "        var extensions = (\n",
              "            Jupyter\n",
              "            && Jupyter.notebook.config.data\n",
              "            && Jupyter.notebook.config.data.load_extensions\n",
              "        );\n",
              "        if (extensions && extensions[\"webio-jupyter-notebook\"]) {\n",
              "            // Extension already loaded.\n",
              "            console.log(\"Jupyter WebIO nbextension detected; not loading ad-hoc.\");\n",
              "            hide();\n",
              "            return;\n",
              "        }\n",
              "    } else if (window.location.pathname.includes(\"/lab\")) {\n",
              "        // Guessing JupyterLa\n",
              "        console.log(\"Jupyter Lab detected; make sure the @webio/jupyter-lab-provider labextension is installed.\");\n",
              "        hide();\n",
              "        return;\n",
              "    }\n",
              "})();\n",
              "\n",
              "</script>\n",
              "<p\n",
              "    id=\"webio-warning-5314710409501922277\"\n",
              "    class=\"output_text output_stderr\"\n",
              "    style=\"padding: 1em; font-weight: bold;\"\n",
              ">\n",
              "    Unable to load WebIO. Please make sure WebIO works for your Jupyter client.\n",
              "    For troubleshooting, please see <a href=\"https://juliagizmos.github.io/WebIO.jl/latest/providers/ijulia/\">\n",
              "    the WebIO/IJulia documentation</a>.\n",
              "    <!-- TODO: link to installation docs. -->\n",
              "</p>\n"
            ],
            "text/plain": [
              "HTML{String}(\"<script>\\n// Immediately-invoked-function-expression to avoid global variables.\\n(function() {\\n    var warning_div = document.getElementById(\\\"webio-warning-5314710409501922277\\\");\\n    var hide = function () {\\n        var script = document.getElementById(\\\"webio-setup-15349782376868254402\\\");\\n        var parent = script && script.parentElement;\\n        var grandparent = parent && parent.parentElement;\\n        if (grandparent) {\\n            grandparent.style.display = \\\"none\\\";\\n        }\\n        warning_div.style.display = \\\"none\\\";\\n    };\\n    if (typeof Jupyter !== \\\"undefined\\\") {\\n        console.log(\\\"WebIO detected Jupyter notebook environment.\\\");\\n        // Jupyter notebook.\\n        var extensions = (\\n            Jupyter\\n            && Jupyter.notebook.config.data\\n            && Jupyter.notebook.config.data.load_extensions\\n        );\\n        if (extensions && extensions[\\\"webio-jupyter-notebook\\\"]) {\\n            // Extension already loaded.\\n            console.log(\\\"Jupyter WebIO nbextension detected; not loading ad-hoc.\\\");\\n            hide();\\n            return;\\n        }\\n    } else if (window.location.pathname.includes(\\\"/lab\\\")) {\\n        // Guessing JupyterLa\\n        console.log(\\\"Jupyter Lab detected; make sure the @webio/jupyter-lab-provider labextension is installed.\\\");\\n        hide();\\n        return;\\n    }\\n})();\\n\\n</script>\\n<p\\n    id=\\\"webio-warning-5314710409501922277\\\"\\n    class=\\\"output_text output_stderr\\\"\\n    style=\\\"padding: 1em; font-weight: bold;\\\"\\n>\\n    Unable to load WebIO. Please make sure WebIO works for your Jupyter client.\\n    For troubleshooting, please see <a href=\\\"https://juliagizmos.github.io/WebIO.jl/latest/providers/ijulia/\\\">\\n    the WebIO/IJulia documentation</a>.\\n    <!-- TODO: link to installation docs. -->\\n</p>\\n\")"
            ]
          },
          "metadata": {
            "tags": []
          }
        },
        {
          "output_type": "stream",
          "text": [
            "┌ Info: Precompiling JLD2 [033835bb-8acc-5ee8-8aae-3f567f8a3819]\n",
            "└ @ Base loading.jl:1273\n",
            "┌ Warning: `haskey(::TargetIterator, name::String)` is deprecated, use `Target(; name=name) !== nothing` instead.\n",
            "│   caller = llvm_compat(::VersionNumber) at compatibility.jl:176\n",
            "└ @ CUDAnative /root/.julia/packages/CUDAnative/e0IdN/src/compatibility.jl:176\n"
          ],
          "name": "stderr"
        }
      ]
    },
    {
      "cell_type": "code",
      "metadata": {
        "id": "vm52gmiY8mFQ"
      },
      "source": [
        "X_rock = load(\"rock.jld2\")[\"rock_imgs\"]\n",
        "X_paper = load(\"paper.jld2\")[\"paper_imgs\"]\n",
        "X_scissors = load(\"scissors.jld2\")[\"scissors_imgs\"];"
      ],
      "execution_count": 4,
      "outputs": []
    },
    {
      "cell_type": "markdown",
      "metadata": {
        "id": "pRnZRspSTDkD"
      },
      "source": [
        "# Create Labels and Classification Vectors\n",
        "\n"
      ]
    },
    {
      "cell_type": "code",
      "metadata": {
        "colab": {
          "base_uri": "https://localhost:8080/"
        },
        "id": "8cbQqjGB0Otl",
        "outputId": "71ef3d62-99fa-4fa3-bf62-3f4bc99e2080"
      },
      "source": [
        "labels = [\"Rock\", \"Paper\", \"Scissors\"]\n",
        "num_labels = length(labels)\n",
        "\n",
        "function e_i(i::Integer, n::Integer, T::Type=Float64)\n",
        "    v = zeros(T, n)\n",
        "    v[i] = 1\n",
        "\n",
        "    return v\n",
        "end\n",
        "\n",
        "label2vector = Dict{String, Vector{Float64}}()\n",
        "\n",
        "for (i, l) in enumerate(labels)\n",
        "    label2vector[l] = e_i(i, num_labels)\n",
        "end\n",
        "label2vector"
      ],
      "execution_count": 5,
      "outputs": [
        {
          "output_type": "execute_result",
          "data": {
            "text/plain": [
              "Dict{String,Array{Float64,1}} with 3 entries:\n",
              "  \"Rock\"     => [1.0, 0.0, 0.0]\n",
              "  \"Paper\"    => [0.0, 1.0, 0.0]\n",
              "  \"Scissors\" => [0.0, 0.0, 1.0]"
            ]
          },
          "metadata": {
            "tags": []
          },
          "execution_count": 5
        }
      ]
    },
    {
      "cell_type": "code",
      "metadata": {
        "colab": {
          "base_uri": "https://localhost:8080/"
        },
        "id": "cjXr0CVv1bu_",
        "outputId": "5322dd5c-1256-415b-ee65-267554647282"
      },
      "source": [
        "label2vector[\"Rock\"]"
      ],
      "execution_count": 6,
      "outputs": [
        {
          "output_type": "execute_result",
          "data": {
            "text/plain": [
              "3-element Array{Float64,1}:\n",
              " 1.0\n",
              " 0.0\n",
              " 0.0"
            ]
          },
          "metadata": {
            "tags": []
          },
          "execution_count": 6
        }
      ]
    },
    {
      "cell_type": "code",
      "metadata": {
        "colab": {
          "base_uri": "https://localhost:8080/"
        },
        "id": "DU-xcvFL1fx1",
        "outputId": "4459e64d-c822-4298-addb-a8d212b6e25a"
      },
      "source": [
        "vector2label = Dict((v, k) for (k, v) in label2vector)"
      ],
      "execution_count": 7,
      "outputs": [
        {
          "output_type": "execute_result",
          "data": {
            "text/plain": [
              "Dict{Array{Float64,1},String} with 3 entries:\n",
              "  [1.0, 0.0, 0.0] => \"Rock\"\n",
              "  [0.0, 0.0, 1.0] => \"Scissors\"\n",
              "  [0.0, 1.0, 0.0] => \"Paper\""
            ]
          },
          "metadata": {
            "tags": []
          },
          "execution_count": 7
        }
      ]
    },
    {
      "cell_type": "markdown",
      "metadata": {
        "id": "twfRLnps1y-u"
      },
      "source": [
        "# Create Training and Testing Data"
      ]
    },
    {
      "cell_type": "code",
      "metadata": {
        "colab": {
          "base_uri": "https://localhost:8080/"
        },
        "id": "RBIuHk7219IQ",
        "outputId": "d2745bec-6141-46a6-f9ce-d85037a0d80d"
      },
      "source": [
        "N_per_label=355\n",
        "X_train = hcat((reshape(X[:, :, :, (1:N_per_label)], 7200, :) for X in (X_rock, X_paper, X_scissors))...)\n",
        "Y_train = hcat((repeat(label2vector[l], 1, N_per_label) for l in labels)...)"
      ],
      "execution_count": 8,
      "outputs": [
        {
          "output_type": "execute_result",
          "data": {
            "text/plain": [
              "3×1065 Array{Float64,2}:\n",
              " 1.0  1.0  1.0  1.0  1.0  1.0  1.0  1.0  …  0.0  0.0  0.0  0.0  0.0  0.0  0.0\n",
              " 0.0  0.0  0.0  0.0  0.0  0.0  0.0  0.0     0.0  0.0  0.0  0.0  0.0  0.0  0.0\n",
              " 0.0  0.0  0.0  0.0  0.0  0.0  0.0  0.0     1.0  1.0  1.0  1.0  1.0  1.0  1.0"
            ]
          },
          "metadata": {
            "tags": []
          },
          "execution_count": 8
        }
      ]
    },
    {
      "cell_type": "code",
      "metadata": {
        "colab": {
          "base_uri": "https://localhost:8080/"
        },
        "id": "P-IHohLh1xpd",
        "outputId": "ea6d6d54-a0f9-4dc6-dc61-fbdefd8b3ddb"
      },
      "source": [
        "X_test = hcat((reshape(X[:, :, :, (N_per_label + 1):(2 * N_per_label)], 7200, :) for X in (X_rock, X_paper, X_scissors))...)\n",
        "Y_test = hcat((repeat(label2vector[l], 1, N_per_label) for l in labels)...)\n",
        "\n",
        "labels_test = vcat((fill(l, N_per_label) for l in labels)...)"
      ],
      "execution_count": 9,
      "outputs": [
        {
          "output_type": "execute_result",
          "data": {
            "text/plain": [
              "1065-element Array{String,1}:\n",
              " \"Rock\"    \n",
              " \"Rock\"    \n",
              " \"Rock\"    \n",
              " \"Rock\"    \n",
              " \"Rock\"    \n",
              " \"Rock\"    \n",
              " \"Rock\"    \n",
              " \"Rock\"    \n",
              " \"Rock\"    \n",
              " \"Rock\"    \n",
              " \"Rock\"    \n",
              " \"Rock\"    \n",
              " \"Rock\"    \n",
              " ⋮         \n",
              " \"Scissors\"\n",
              " \"Scissors\"\n",
              " \"Scissors\"\n",
              " \"Scissors\"\n",
              " \"Scissors\"\n",
              " \"Scissors\"\n",
              " \"Scissors\"\n",
              " \"Scissors\"\n",
              " \"Scissors\"\n",
              " \"Scissors\"\n",
              " \"Scissors\"\n",
              " \"Scissors\""
            ]
          },
          "metadata": {
            "tags": []
          },
          "execution_count": 9
        }
      ]
    },
    {
      "cell_type": "markdown",
      "metadata": {
        "id": "uXlzgWlQTep5"
      },
      "source": [
        "# GPU vs CPU when training a neural network using Flux.jl"
      ]
    },
    {
      "cell_type": "code",
      "metadata": {
        "colab": {
          "base_uri": "https://localhost:8080/"
        },
        "id": "L3rdxn5tCLRk",
        "outputId": "bfe8a78c-3c47-425a-85bc-f5b573855b23"
      },
      "source": [
        "Y_train_onehot = onehotbatch(labels_test, labels) \n"
      ],
      "execution_count": null,
      "outputs": [
        {
          "output_type": "execute_result",
          "data": {
            "text/plain": [
              "3×1065 Flux.OneHotMatrix{Array{Flux.OneHotVector,1}}:\n",
              " 1  1  1  1  1  1  1  1  1  1  1  1  1  …  0  0  0  0  0  0  0  0  0  0  0  0\n",
              " 0  0  0  0  0  0  0  0  0  0  0  0  0     0  0  0  0  0  0  0  0  0  0  0  0\n",
              " 0  0  0  0  0  0  0  0  0  0  0  0  0     1  1  1  1  1  1  1  1  1  1  1  1"
            ]
          },
          "metadata": {
            "tags": []
          },
          "execution_count": 18
        }
      ]
    },
    {
      "cell_type": "code",
      "metadata": {
        "colab": {
          "base_uri": "https://localhost:8080/"
        },
        "id": "0VjvL9MBCNnk",
        "outputId": "eb6435b6-f5ee-4a50-8b66-0da8fb5ace88"
      },
      "source": [
        "m = Chain(Dense(7200,200,relu),Dense(200,200,σ),Dense(200,200,relu),Dense(200,200,σ),Dense(200,200,relu),Dense(200,3,σ),softmax) |> cpu\n",
        "\n",
        "using Statistics: mean\n",
        "using BenchmarkTools\n",
        "\n",
        "opt = ADAM(0.0001)\n",
        "lossf(x, y) = crossentropy(m(x), y)\n",
        "accuracy(x, y) = mean(onecold(m(x)) .== onecold(y))\n",
        "        \n",
        "function evalcb()\n",
        "    l = round(lossf(X_train, Y_train); digits=4)\n",
        "    a = round(accuracy(X_train, Y_train); digits=4)\n",
        "    println(\"Loss: $(l)\\tAccuracy: $(a)\")\n",
        "end\n",
        "\n",
        "epochs = 200\n",
        "batch_size = 250\n",
        "train_loader = DataLoader(X_train, Y_train; batchsize = batch_size, shuffle=true) |> cpu\n",
        "@benchmark Flux.train!(lossf, Flux.params(m), ncycle(train_loader, epochs), opt; cb=throttle(evalcb, 5)) \n"
      ],
      "execution_count": null,
      "outputs": [
        {
          "output_type": "stream",
          "text": [
            "Loss: 1.0988\tAccuracy: 0.3333\n",
            "Loss: 1.0973\tAccuracy: 0.3333\n",
            "Loss: 1.0965\tAccuracy: 0.3333\n",
            "Loss: 1.0956\tAccuracy: 0.3333\n",
            "Loss: 1.0947\tAccuracy: 0.3333\n",
            "Loss: 1.0935\tAccuracy: 0.3333\n",
            "Loss: 1.0919\tAccuracy: 0.3474\n",
            "Loss: 1.0907\tAccuracy: 0.5136\n",
            "Loss: 1.0887\tAccuracy: 0.5887\n",
            "Loss: 1.0869\tAccuracy: 0.6141\n",
            "Loss: 1.0848\tAccuracy: 0.5052\n",
            "Loss: 1.0822\tAccuracy: 0.585\n",
            "Loss: 1.0794\tAccuracy: 0.6169\n",
            "Loss: 1.0762\tAccuracy: 0.6723\n",
            "Loss: 1.0725\tAccuracy: 0.6638\n",
            "Loss: 1.0686\tAccuracy: 0.7596\n",
            "Loss: 1.0635\tAccuracy: 0.7596\n",
            "Loss: 1.0587\tAccuracy: 0.7559\n",
            "Loss: 1.0524\tAccuracy: 0.7662\n",
            "Loss: 1.0461\tAccuracy: 0.7643\n",
            "Loss: 1.0396\tAccuracy: 0.7624\n",
            "Loss: 1.0317\tAccuracy: 0.7615\n",
            "Loss: 1.023\tAccuracy: 0.769\n",
            "Loss: 1.0136\tAccuracy: 0.7793\n",
            "Loss: 1.004\tAccuracy: 0.7681\n",
            "Loss: 0.9953\tAccuracy: 0.7737\n",
            "Loss: 0.9832\tAccuracy: 0.7756\n",
            "Loss: 0.9713\tAccuracy: 0.7822\n",
            "Loss: 0.9581\tAccuracy: 0.7869\n",
            "Loss: 0.9462\tAccuracy: 0.785\n",
            "Loss: 0.9342\tAccuracy: 0.784\n",
            "Loss: 0.9195\tAccuracy: 0.7934\n",
            "Loss: 0.9086\tAccuracy: 0.7925\n",
            "Loss: 0.8997\tAccuracy: 0.7915\n",
            "Loss: 0.8842\tAccuracy: 0.8\n",
            "Loss: 0.8775\tAccuracy: 0.7962\n",
            "Loss: 0.8618\tAccuracy: 0.8038\n"
          ],
          "name": "stdout"
        }
      ]
    },
    {
      "cell_type": "code",
      "metadata": {
        "id": "8GYixGz2sB-t",
        "colab": {
          "base_uri": "https://localhost:8080/"
        },
        "outputId": "bbfc5397-f116-43d2-b347-ba63830a3af9"
      },
      "source": [
        "CuArrays.allowscalar(false)\n",
        "\n",
        "m = Chain(Dense(7200,200,relu),Dense(200,200,σ),Dense(200,200,relu),Dense(200,200,σ),Dense(200,200,relu),Dense(200,3,σ),softmax) |> gpu \n",
        "\n",
        "opt = ADAM(0.0001)\n",
        "\n",
        "function lossf2(x, y) \n",
        "  x = x |> gpu \n",
        "  y = y |> gpu \n",
        "  crossentropy(m(x), y) \n",
        "end\n",
        "\n",
        "using Statistics: mean \n",
        "using BenchmarkTools\n",
        "\n",
        "function accuracy2(x, y) \n",
        "  x = x |> gpu \n",
        "  y = y |> gpu \n",
        "  mean(onecold(m(x)|>cpu) .== onecold(y|>cpu)) \n",
        "end\n",
        "\n",
        "function evalcb2() \n",
        "  l = round(lossf2(X_train, Y_train); digits=4) \n",
        "  a = round(accuracy2(X_train, Y_train); digits=4) \n",
        "  println(\"Loss: $(l)\\tAccuracy: $(a)\") \n",
        "end\n",
        "\n",
        "epochs = 200 \n",
        "batch_size = 250 \n",
        "train_loader = DataLoader(X_train |> gpu, Y_train |> gpu; batchsize = batch_size, shuffle=true) |> gpu \n",
        "@benchmark Flux.train!(lossf2, Flux.params(m), ncycle(train_loader, epochs), opt; cb=throttle(evalcb2, 0.5))"
      ],
      "execution_count": 11,
      "outputs": [
        {
          "output_type": "stream",
          "text": [
            "Loss: 1.0995\tAccuracy: 0.3333\n",
            "Loss: 1.0527\tAccuracy: 0.5822\n",
            "Loss: 0.884\tAccuracy: 0.7681\n",
            "Loss: 0.7679\tAccuracy: 0.831\n",
            "Loss: 0.6882\tAccuracy: 0.8883\n",
            "Loss: 0.6566\tAccuracy: 0.9108\n",
            "Loss: 0.638\tAccuracy: 0.9221\n",
            "Loss: 0.6233\tAccuracy: 0.9362\n",
            "Loss: 0.6147\tAccuracy: 0.9418\n",
            "Loss: 0.6016\tAccuracy: 0.9531\n",
            "Loss: 0.5929\tAccuracy: 0.9615\n",
            "Loss: 0.586\tAccuracy: 0.97\n",
            "Loss: 0.5787\tAccuracy: 0.9765\n",
            "Loss: 0.5739\tAccuracy: 0.9793\n",
            "Loss: 0.5724\tAccuracy: 0.9812\n",
            "Loss: 0.5717\tAccuracy: 0.9812\n",
            "Loss: 0.571\tAccuracy: 0.9822\n",
            "Loss: 0.5699\tAccuracy: 0.9822\n",
            "Loss: 0.5695\tAccuracy: 0.9822\n",
            "Loss: 0.5693\tAccuracy: 0.9822\n",
            "Loss: 0.5688\tAccuracy: 0.9831\n",
            "Loss: 0.5684\tAccuracy: 0.9831\n",
            "Loss: 0.5683\tAccuracy: 0.9831\n",
            "Loss: 0.5684\tAccuracy: 0.9831\n",
            "Loss: 0.5681\tAccuracy: 0.9831\n",
            "Loss: 0.5682\tAccuracy: 0.9831\n",
            "Loss: 0.5684\tAccuracy: 0.9831\n",
            "Loss: 0.5687\tAccuracy: 0.9831\n",
            "Loss: 0.5674\tAccuracy: 0.984\n",
            "Loss: 0.5673\tAccuracy: 0.984\n",
            "Loss: 0.5672\tAccuracy: 0.984\n",
            "Loss: 0.5672\tAccuracy: 0.984\n",
            "Loss: 0.5672\tAccuracy: 0.984\n",
            "Loss: 0.5672\tAccuracy: 0.984\n",
            "Loss: 0.5672\tAccuracy: 0.984\n",
            "Loss: 0.5671\tAccuracy: 0.984\n",
            "Loss: 0.5671\tAccuracy: 0.984\n",
            "Loss: 0.5671\tAccuracy: 0.984\n",
            "Loss: 0.5671\tAccuracy: 0.984\n",
            "Loss: 0.5671\tAccuracy: 0.984\n",
            "Loss: 0.5671\tAccuracy: 0.984\n",
            "Loss: 0.5671\tAccuracy: 0.984\n",
            "Loss: 0.5671\tAccuracy: 0.984\n",
            "Loss: 0.5671\tAccuracy: 0.984\n",
            "Loss: 0.5671\tAccuracy: 0.984\n",
            "Loss: 0.5671\tAccuracy: 0.984\n",
            "Loss: 0.5671\tAccuracy: 0.984\n",
            "Loss: 0.567\tAccuracy: 0.984\n",
            "Loss: 0.567\tAccuracy: 0.984\n",
            "Loss: 0.567\tAccuracy: 0.984\n",
            "Loss: 0.567\tAccuracy: 0.984\n",
            "Loss: 0.567\tAccuracy: 0.984\n",
            "Loss: 0.567\tAccuracy: 0.984\n",
            "Loss: 0.567\tAccuracy: 0.984\n",
            "Loss: 0.567\tAccuracy: 0.984\n",
            "Loss: 0.567\tAccuracy: 0.985\n",
            "Loss: 0.5948\tAccuracy: 0.9531\n",
            "Loss: 0.5674\tAccuracy: 0.984\n"
          ],
          "name": "stdout"
        },
        {
          "output_type": "execute_result",
          "data": {
            "text/plain": [
              "BenchmarkTools.Trial: \n",
              "  memory estimate:  1.26 GiB\n",
              "  allocs estimate:  10516217\n",
              "  --------------\n",
              "  minimum time:     7.924 s (1.53% GC)\n",
              "  median time:      7.924 s (1.53% GC)\n",
              "  mean time:        7.924 s (1.53% GC)\n",
              "  maximum time:     7.924 s (1.53% GC)\n",
              "  --------------\n",
              "  samples:          1\n",
              "  evals/sample:     1"
            ]
          },
          "metadata": {
            "tags": []
          },
          "execution_count": 11
        }
      ]
    },
    {
      "cell_type": "code",
      "metadata": {
        "id": "b7vW6X2X1Mhd",
        "colab": {
          "base_uri": "https://localhost:8080/"
        },
        "outputId": "056e7b1d-3e06-4b33-e98a-150b6d8d4374"
      },
      "source": [
        "accuracy2(X_train, Y_train)"
      ],
      "execution_count": null,
      "outputs": [
        {
          "output_type": "execute_result",
          "data": {
            "text/plain": [
              "0.9924882629107982"
            ]
          },
          "metadata": {
            "tags": []
          },
          "execution_count": 20
        }
      ]
    },
    {
      "cell_type": "code",
      "metadata": {
        "id": "X0fhO9YU1Vsx",
        "colab": {
          "base_uri": "https://localhost:8080/"
        },
        "outputId": "a2c96426-75da-4c84-e96d-31b6f54c1630"
      },
      "source": [
        "accuracy2(X_test, Y_test)"
      ],
      "execution_count": null,
      "outputs": [
        {
          "output_type": "execute_result",
          "data": {
            "text/plain": [
              "0.9323943661971831"
            ]
          },
          "metadata": {
            "tags": []
          },
          "execution_count": 21
        }
      ]
    }
  ]
}